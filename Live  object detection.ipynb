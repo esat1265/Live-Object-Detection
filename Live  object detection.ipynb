{
 "cells": [
  {
   "cell_type": "code",
   "execution_count": 2,
   "id": "08e9ca80",
   "metadata": {},
   "outputs": [],
   "source": [
    "#pip install opencv-python"
   ]
  },
  {
   "cell_type": "code",
   "execution_count": 5,
   "id": "197fa671",
   "metadata": {},
   "outputs": [],
   "source": [
    "#pip install cvlib"
   ]
  },
  {
   "cell_type": "code",
   "execution_count": null,
   "id": "b9120730",
   "metadata": {},
   "outputs": [],
   "source": [
    "#!pip install --upgrade opencv-python==4.5.3.56"
   ]
  },
  {
   "cell_type": "code",
   "execution_count": 3,
   "id": "1e2b4d7f",
   "metadata": {},
   "outputs": [],
   "source": [
    "import cvlib as cv\n",
    "from cvlib.object_detection import draw_bbox\n",
    "import cv2\n",
    "\n",
    "webcam = cv2.VideoCapture('http://192.168.1.96:8080/video')\n",
    "\n",
    "while webcam.isOpened():\n",
    "    status, frame = webcam.read()\n",
    "    \n",
    "    bbox, label, conf = cv.detect_common_objects(frame)\n",
    "    \n",
    "    output_image = draw_bbox(frame, bbox, label, conf)\n",
    "    \n",
    "    cv2.imshow('Object Detection', output_image)\n",
    "    \n",
    "    if cv2.waitKey(1) & 0xFF == ord('q'):\n",
    "        break\n",
    "webcam.release()\n",
    "cv2.destroyAllWindows()"
   ]
  },
  {
   "cell_type": "code",
   "execution_count": null,
   "id": "59a7b20e",
   "metadata": {},
   "outputs": [],
   "source": []
  }
 ],
 "metadata": {
  "kernelspec": {
   "display_name": "Python 3 (ipykernel)",
   "language": "python",
   "name": "python3"
  },
  "language_info": {
   "codemirror_mode": {
    "name": "ipython",
    "version": 3
   },
   "file_extension": ".py",
   "mimetype": "text/x-python",
   "name": "python",
   "nbconvert_exporter": "python",
   "pygments_lexer": "ipython3",
   "version": "3.11.5"
  }
 },
 "nbformat": 4,
 "nbformat_minor": 5
}
